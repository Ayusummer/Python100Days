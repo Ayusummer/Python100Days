{
 "cells": [
  {
   "cell_type": "markdown",
   "metadata": {},
   "source": [
    "# 06.函数和模块的使用.练习\n"
   ]
  },
  {
   "cell_type": "markdown",
   "metadata": {},
   "source": [
    "## 练习1：实现计算求最大公约数和最小公倍数的函数。\n"
   ]
  },
  {
   "cell_type": "code",
   "execution_count": 4,
   "metadata": {},
   "outputs": [
    {
     "name": "stdout",
     "output_type": "stream",
     "text": [
      "18和24的最大公约数为6\n",
      "18和24的最小公倍数为72\n"
     ]
    }
   ],
   "source": [
    "def max_common_divisor(a: int, b: int) -> int:\n",
    "    \"\"\"计算两个数的最大公约数  \n",
    "    :param a: 第一个数\n",
    "    :param b: 第二个数\n",
    "    :return: 最大公约数\n",
    "    \"\"\"\n",
    "    if a>b:\n",
    "        a,b=b,a\n",
    "    for i in range(a,0,-1):\n",
    "        if a%i==0 and b%i==0:\n",
    "            return i\n",
    "\n",
    "def min_common_multiple(a: int, b: int) -> int:\n",
    "    \"\"\"计算两个数的最小公倍数  \n",
    "    :param a: 第一个数\n",
    "    :param b: 第二个数\n",
    "    :return: 最小公倍数\n",
    "    \"\"\"\n",
    "    return a*b//max_common_divisor(a,b)\n",
    "\n",
    "a, b = map(int, input(\"请输入两个正整数，用空格隔开：\").split())\n",
    "print(f\"{a}和{b}的最大公约数为{max_common_divisor(a, b)}\")\n",
    "print(f\"{a}和{b}的最小公倍数为{min_common_multiple(a, b)}\")"
   ]
  },
  {
   "cell_type": "code",
   "execution_count": null,
   "metadata": {},
   "outputs": [],
   "source": [
    "# 参考答案\n",
    "def gcd(x, y):\n",
    "    \"\"\"求最大公约数\"\"\"\n",
    "    (x, y) = (y, x) if x > y else (x, y)\n",
    "    for factor in range(x, 0, -1):\n",
    "        if x % factor == 0 and y % factor == 0:\n",
    "            return factor\n",
    "\n",
    "\n",
    "def lcm(x, y):\n",
    "    \"\"\"求最小公倍数\"\"\"\n",
    "    return x * y // gcd(x, y)"
   ]
  },
  {
   "cell_type": "markdown",
   "metadata": {},
   "source": [
    "## 练习2：实现判断一个数是不是回文数的函数。\n"
   ]
  },
  {
   "cell_type": "code",
   "execution_count": 6,
   "metadata": {},
   "outputs": [
    {
     "name": "stdout",
     "output_type": "stream",
     "text": [
      "15551是回文数\n"
     ]
    }
   ],
   "source": [
    "# 判断一个数是否为回文数\n",
    "def is_palindrome(num: int) -> bool:\n",
    "    \"\"\"判断一个数是不是回文数  \n",
    "    :param num: 要判断的数\n",
    "    :return: 是回文数返回True, 否则返回False\n",
    "    \"\"\"\n",
    "    num_tmp = num\n",
    "    sum = 0\n",
    "    while num_tmp > 0:\n",
    "        sum = sum * 10 + num_tmp % 10\n",
    "        num_tmp //= 10\n",
    "    return sum == num\n",
    "\n",
    "test_num = int(input(\"请输入一个正整数:\"))\n",
    "if is_palindrome(test_num):\n",
    "    print(f\"{test_num}是回文数\")\n",
    "else:\n",
    "    print(f\"{test_num}不是回文数\")"
   ]
  },
  {
   "cell_type": "code",
   "execution_count": null,
   "metadata": {},
   "outputs": [],
   "source": [
    "# 参考答案\n",
    "def is_palindrome(num):\n",
    "    \"\"\"判断一个数是不是回文数\"\"\"\n",
    "    temp = num\n",
    "    total = 0\n",
    "    while temp > 0:\n",
    "        total = total * 10 + temp % 10\n",
    "        temp //= 10\n",
    "    return total == num"
   ]
  },
  {
   "cell_type": "markdown",
   "metadata": {},
   "source": [
    "## 练习3：实现判断一个数是不是素数的函数。\n",
    "\n"
   ]
  },
  {
   "cell_type": "code",
   "execution_count": 8,
   "metadata": {},
   "outputs": [],
   "source": [
    "def is_prime(num: int) -> bool:\n",
    "    \"\"\"判断一个数是否为素数  \n",
    "    :param num: 待判断的数  \n",
    "    :return: 若 num 为素数则返回 True, 否则返回 False\n",
    "    \"\"\"\n",
    "    for factor in range(2, int(num**0.5)+1):\n",
    "        if num % factor == 0:\n",
    "            return False\n",
    "    return True if num != 1 else False"
   ]
  },
  {
   "cell_type": "code",
   "execution_count": null,
   "metadata": {},
   "outputs": [],
   "source": [
    "# 参考答案\n",
    "def is_prime(num):\n",
    "    \"\"\"判断一个数是不是素数\"\"\"\n",
    "    for factor in range(2, int(num ** 0.5) + 1):\n",
    "        if num % factor == 0:\n",
    "            return False\n",
    "    return True if num != 1 else False"
   ]
  },
  {
   "cell_type": "markdown",
   "metadata": {},
   "source": [
    "## 练习4：写一个程序判断输入的正整数是不是回文素数。\n",
    "\n"
   ]
  },
  {
   "cell_type": "code",
   "execution_count": 9,
   "metadata": {},
   "outputs": [
    {
     "name": "stdout",
     "output_type": "stream",
     "text": [
      "15551是回文素数\n"
     ]
    }
   ],
   "source": [
    "def is_palindrome_prime(num: int) -> bool:\n",
    "    \"\"\"判断一个数是否为回文素数  \n",
    "    :param num: 待判断的数  \n",
    "    :return: 若 num 为回文素数则返回 True, 否则返回 False\n",
    "    \"\"\"\n",
    "    return is_palindrome(num) and is_prime(num)\n",
    "\n",
    "num = int(input(\"请输入一个正整数:\"))\n",
    "if is_palindrome_prime(num):\n",
    "    print(f\"{num}是回文素数\")\n",
    "else:\n",
    "    print(f\"{num}不是回文素数\")"
   ]
  },
  {
   "cell_type": "code",
   "execution_count": null,
   "metadata": {},
   "outputs": [],
   "source": [
    "# 参考答案\n",
    "if __name__ == '__main__':\n",
    "    num = int(input('请输入正整数: '))\n",
    "    if is_palindrome(num) and is_prime(num):\n",
    "        print('%d是回文素数' % num)"
   ]
  },
  {
   "cell_type": "markdown",
   "metadata": {},
   "source": [
    "> **注意**：通过上面的程序可以看出，当我们**将代码中重复出现的和相对独立的功能抽取成函数**后，我们可以**组合使用这些函数**来解决更为复杂的问题，这也是我们为什么要定义和使用函数的一个非常重要的原因。\n"
   ]
  }
 ],
 "metadata": {
  "kernelspec": {
   "display_name": "Python 3.10.4 ('pl')",
   "language": "python",
   "name": "python3"
  },
  "language_info": {
   "name": "python",
   "version": "3.10.4"
  },
  "orig_nbformat": 4,
  "vscode": {
   "interpreter": {
    "hash": "526af95d1ed2fcd5e87194c854c535b0d53eed2d887f5bd0090e9d620abbee53"
   }
  }
 },
 "nbformat": 4,
 "nbformat_minor": 2
}
