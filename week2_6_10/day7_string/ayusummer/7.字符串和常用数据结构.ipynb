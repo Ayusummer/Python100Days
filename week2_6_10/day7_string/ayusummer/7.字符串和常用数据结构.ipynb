{
 "cells": [
  {
   "cell_type": "markdown",
   "metadata": {},
   "source": [
    "## 字符串和常用数据结构\n"
   ]
  },
  {
   "cell_type": "markdown",
   "metadata": {},
   "source": [
    "### 使用字符串\n",
    "\n",
    "第二次世界大战促使了现代电子计算机的诞生，最初计算机被应用于导弹弹道的计算，而在计算机诞生后的很多年时间里，计算机处理的信息基本上都是数值型的信息。世界上的第一台电子计算机叫ENIAC（电子数值积分计算机），诞生于美国的宾夕法尼亚大学，每秒钟能够完成约5000次浮点运算。随着时间的推移，虽然数值运算仍然是计算机日常工作中最为重要的事情之一，但是今天的计算机处理得更多的数据可能都是以文本的方式存在的，如果我们希望通过Python程序操作这些文本信息，就必须要先了解字符串类型以及与它相关的知识。\n",
    "\n",
    "所谓**字符串**，就是由零个或多个字符组成的有限序列，一般记为\n",
    "\n",
    "$${\\displaystyle s=a_{1}a_{2}\\dots a_{n}(0\\leq n \\leq \\infty)}$$\n",
    "\n",
    "在Python程序中，如果我们把单个或多个字符用单引号或者双引号包围起来，就可以表示一个字符串。\n"
   ]
  },
  {
   "cell_type": "code",
   "execution_count": 1,
   "metadata": {},
   "outputs": [
    {
     "name": "stdout",
     "output_type": "stream",
     "text": [
      "hello, world! hello, world! \n",
      "hello, \n",
      "world!\n"
     ]
    }
   ],
   "source": [
    "s1 = 'hello, world!'\n",
    "s2 = \"hello, world!\"\n",
    "# 以三个双引号或单引号开头的字符串可以折行\n",
    "s3 = \"\"\"\n",
    "hello, \n",
    "world!\n",
    "\"\"\"\n",
    "print(s1, s2, s3, end='')"
   ]
  },
  {
   "cell_type": "markdown",
   "metadata": {},
   "source": [
    "可以在字符串中使用`\\`（反斜杠）来表示转义，也就是说`\\`后面的字符不再是它原来的意义，例如：`\\n`不是代表反斜杠和字符n，而是表示换行；而`\\t`也不是代表反斜杠和字符t，而是表示制表符。所以如果想在字符串中表示`'`要写成`\\'`，同理想表示`\\`要写成`\\\\`。可以运行下面的代码看看会输出什么。\n"
   ]
  },
  {
   "cell_type": "code",
   "execution_count": 2,
   "metadata": {},
   "outputs": [
    {
     "name": "stdout",
     "output_type": "stream",
     "text": [
      "'hello, world!' \n",
      "\\hello, world!\\\n"
     ]
    }
   ],
   "source": [
    "s1 = '\\'hello, world!\\''\n",
    "s2 = '\\n\\\\hello, world!\\\\\\n'\n",
    "print(s1, s2, end='')"
   ]
  },
  {
   "cell_type": "markdown",
   "metadata": {},
   "source": [
    "在`\\`后面还可以跟一个八进制或者十六进制数来表示字符，例如`\\141`和`\\x61`都代表小写字母`a`，前者是八进制的表示法，后者是十六进制的表示法。也可以在`\\`后面跟Unicode字符编码来表示字符，例如`\\u9a86\\u660a`代表的是中文“骆昊”。运行下面的代码，看看输出了什么。\n"
   ]
  },
  {
   "cell_type": "code",
   "execution_count": 3,
   "metadata": {},
   "outputs": [
    {
     "name": "stdout",
     "output_type": "stream",
     "text": [
      "abcabc 骆昊\n"
     ]
    }
   ],
   "source": [
    "s1 = '\\141\\142\\143\\x61\\x62\\x63'\n",
    "s2 = '\\u9a86\\u660a'\n",
    "print(s1, s2)"
   ]
  },
  {
   "cell_type": "markdown",
   "metadata": {},
   "source": [
    "如果不希望字符串中的`\\`表示转义，我们可以通过在字符串的最前面加上字母`r`来加以说明，再看看下面的代码又会输出什么。\n"
   ]
  },
  {
   "cell_type": "code",
   "execution_count": 4,
   "metadata": {},
   "outputs": [
    {
     "name": "stdout",
     "output_type": "stream",
     "text": [
      "\\'hello, world!\\' \\n\\\\hello, world!\\\\\\n"
     ]
    }
   ],
   "source": [
    "s1 = r'\\'hello, world!\\''\n",
    "s2 = r'\\n\\\\hello, world!\\\\\\n'\n",
    "print(s1, s2, end='')"
   ]
  },
  {
   "cell_type": "markdown",
   "metadata": {},
   "source": [
    "Python为字符串类型提供了非常丰富的运算符，我们可以使用`+`运算符来实现字符串的拼接，可以使用`*`运算符来重复一个字符串的内容，可以使用`in`和`not in`来判断一个字符串是否包含另外一个字符串（成员运算），我们也可以用`[]`和`[:]`运算符从字符串取出某个字符或某些字符（切片运算），代码如下所示。\n"
   ]
  },
  {
   "cell_type": "code",
   "execution_count": 5,
   "metadata": {},
   "outputs": [
    {
     "name": "stdout",
     "output_type": "stream",
     "text": [
      "hello hello hello \n",
      "hello hello hello world\n",
      "True\n",
      "False\n",
      "c\n",
      "c12\n",
      "c123456\n",
      "c246\n",
      "ac246\n",
      "654321cba\n",
      "45\n"
     ]
    }
   ],
   "source": [
    "s1 = 'hello ' * 3\n",
    "print(s1) # hello hello hello \n",
    "s2 = 'world'\n",
    "s1 += s2\n",
    "print(s1) # hello hello hello world\n",
    "print('ll' in s1) # True\n",
    "print('good' in s1) # False\n",
    "str2 = 'abc123456'\n",
    "# 从字符串中取出指定位置的字符(下标运算)\n",
    "print(str2[2]) # c\n",
    "# 字符串切片(从指定的开始索引到指定的结束索引)\n",
    "print(str2[2:5]) # c12\n",
    "print(str2[2:]) # c123456\n",
    "print(str2[2::2]) # c246\n",
    "print(str2[::2]) # ac246\n",
    "print(str2[::-1]) # 654321cba\n",
    "print(str2[-3:-1]) # 45"
   ]
  },
  {
   "cell_type": "markdown",
   "metadata": {},
   "source": [
    "在Python中，我们还可以通过一系列的方法来完成对字符串的处理，代码如下所示。\n"
   ]
  },
  {
   "cell_type": "code",
   "execution_count": 6,
   "metadata": {},
   "outputs": [
    {
     "name": "stdout",
     "output_type": "stream",
     "text": [
      "13\n",
      "Hello, world!\n",
      "Hello, World!\n",
      "HELLO, WORLD!\n",
      "8\n",
      "-1\n",
      "False\n",
      "True\n",
      "True\n",
      "******************hello, world!*******************\n",
      "                                     hello, world!\n",
      "False\n",
      "False\n",
      "True\n",
      "  jackfrued@126.com \n",
      "jackfrued@126.com\n"
     ]
    }
   ],
   "source": [
    "str1 = 'hello, world!'\n",
    "# 通过内置函数len计算字符串的长度\n",
    "print(len(str1)) # 13\n",
    "# 获得字符串首字母大写的拷贝\n",
    "print(str1.capitalize()) # Hello, world!\n",
    "# 获得字符串每个单词首字母大写的拷贝\n",
    "print(str1.title()) # Hello, World!\n",
    "# 获得字符串变大写后的拷贝\n",
    "print(str1.upper()) # HELLO, WORLD!\n",
    "# 从字符串中查找子串所在位置\n",
    "print(str1.find('or')) # 8\n",
    "print(str1.find('shit')) # -1\n",
    "# 与find类似但找不到子串时会引发异常\n",
    "# print(str1.index('or'))\n",
    "# print(str1.index('shit'))\n",
    "# 检查字符串是否以指定的字符串开头\n",
    "print(str1.startswith('He')) # False\n",
    "print(str1.startswith('hel')) # True\n",
    "# 检查字符串是否以指定的字符串结尾\n",
    "print(str1.endswith('!')) # True\n",
    "# 将字符串以指定的宽度居中并在两侧填充指定的字符\n",
    "print(str1.center(50, '*'))\n",
    "# 将字符串以指定的宽度靠右放置左侧填充指定的字符\n",
    "print(str1.rjust(50, ' '))\n",
    "str2 = 'abc123456'\n",
    "# 检查字符串是否由数字构成\n",
    "print(str2.isdigit())  # False\n",
    "# 检查字符串是否以字母构成\n",
    "print(str2.isalpha())  # False\n",
    "# 检查字符串是否以数字和字母构成\n",
    "print(str2.isalnum())  # True\n",
    "str3 = '  jackfrued@126.com '\n",
    "print(str3)\n",
    "# 获得字符串修剪左右两侧空格之后的拷贝\n",
    "print(str3.strip())"
   ]
  },
  {
   "cell_type": "markdown",
   "metadata": {},
   "source": [
    "我们之前讲过，可以用下面的方式来格式化输出字符串。\n"
   ]
  },
  {
   "cell_type": "code",
   "execution_count": 7,
   "metadata": {},
   "outputs": [
    {
     "name": "stdout",
     "output_type": "stream",
     "text": [
      "5 * 10 = 50\n"
     ]
    }
   ],
   "source": [
    "a, b = 5, 10\n",
    "print('%d * %d = %d' % (a, b, a * b))"
   ]
  },
  {
   "cell_type": "markdown",
   "metadata": {},
   "source": [
    "当然，我们也可以用字符串提供的方法来完成字符串的格式，代码如下所示。\n"
   ]
  },
  {
   "cell_type": "code",
   "execution_count": 8,
   "metadata": {},
   "outputs": [
    {
     "name": "stdout",
     "output_type": "stream",
     "text": [
      "5 * 10 = 50\n"
     ]
    }
   ],
   "source": [
    "a, b = 5, 10\n",
    "print('{0} * {1} = {2}'.format(a, b, a * b))"
   ]
  },
  {
   "cell_type": "markdown",
   "metadata": {},
   "source": [
    "Python 3.6以后，格式化字符串还有更为简洁的书写方式，就是在字符串前加上字母`f`，我们可以使用下面的语法糖来简化上面的代码。\n"
   ]
  },
  {
   "cell_type": "code",
   "execution_count": 9,
   "metadata": {},
   "outputs": [
    {
     "name": "stdout",
     "output_type": "stream",
     "text": [
      "5 * 10 = 50\n"
     ]
    }
   ],
   "source": [
    "a, b = 5, 10\n",
    "print(f'{a} * {b} = {a * b}')"
   ]
  },
  {
   "cell_type": "markdown",
   "metadata": {},
   "source": [
    "除了字符串，Python还内置了多种类型的数据结构，如果要在程序中保存和操作数据，绝大多数时候可以利用现有的数据结构来实现，最常用的包括列表、元组、集合和字典。\n"
   ]
  },
  {
   "cell_type": "markdown",
   "metadata": {},
   "source": [
    "### 使用列表\n",
    "\n",
    "不知道大家是否注意到，刚才我们讲到的字符串类型（`str`）和之前我们讲到的数值类型（`int`和`float`）有一些区别。数值类型是标量类型，也就是说这种类型的对象没有可以访问的内部结构；而字符串类型是一种结构化的、非标量类型，所以才会有一系列的属性和方法。接下来我们要介绍的列表（`list`），也是一种结构化的、非标量类型，它是值的有序序列，每个值都可以通过索引进行标识，定义列表可以将列表的元素放在`[]`中，多个元素用`,`进行分隔，可以使用`for`循环对列表元素进行遍历，也可以使用`[]`或`[:]`运算符取出列表中的一个或多个元素。\n",
    "\n",
    "下面的代码演示了如何定义列表、如何遍历列表以及列表的下标运算。\n"
   ]
  },
  {
   "cell_type": "code",
   "execution_count": 10,
   "metadata": {},
   "outputs": [
    {
     "name": "stdout",
     "output_type": "stream",
     "text": [
      "[1, 3, 5, 7, 100]\n",
      "['hello', 'hello', 'hello']\n",
      "5\n",
      "1\n",
      "100\n",
      "100\n",
      "5\n",
      "[1, 3, 300, 7, 100]\n",
      "1\n",
      "3\n",
      "300\n",
      "7\n",
      "100\n",
      "1\n",
      "3\n",
      "300\n",
      "7\n",
      "100\n",
      "0 1\n",
      "1 3\n",
      "2 300\n",
      "3 7\n",
      "4 100\n"
     ]
    }
   ],
   "source": [
    "list1 = [1, 3, 5, 7, 100]\n",
    "print(list1) # [1, 3, 5, 7, 100]\n",
    "# 乘号表示列表元素的重复\n",
    "list2 = ['hello'] * 3\n",
    "print(list2) # ['hello', 'hello', 'hello']\n",
    "# 计算列表长度(元素个数)\n",
    "print(len(list1)) # 5\n",
    "# 下标(索引)运算\n",
    "print(list1[0]) # 1\n",
    "print(list1[4]) # 100\n",
    "# print(list1[5])  # IndexError: list index out of range\n",
    "print(list1[-1]) # 100\n",
    "print(list1[-3]) # 5\n",
    "list1[2] = 300\n",
    "print(list1) # [1, 3, 300, 7, 100]\n",
    "# 通过循环用下标遍历列表元素\n",
    "for index in range(len(list1)):\n",
    "    print(list1[index])\n",
    "# 通过for循环遍历列表元素\n",
    "for elem in list1:\n",
    "    print(elem)\n",
    "# 通过enumerate函数处理列表之后再遍历可以同时获得元素索引和值(Mark)\n",
    "for index, elem in enumerate(list1):\n",
    "    print(index, elem)"
   ]
  },
  {
   "cell_type": "markdown",
   "metadata": {},
   "source": [
    "下面的代码演示了如何向列表中添加元素以及如何从列表中移除元素。\n",
    "\n"
   ]
  },
  {
   "cell_type": "code",
   "execution_count": 12,
   "metadata": {},
   "outputs": [
    {
     "name": "stdout",
     "output_type": "stream",
     "text": [
      "[1, 400, 3, 5, 7, 100, 200, 1000, 2000]\n",
      "9\n",
      "[1, 400, 5, 7, 100, 200, 1000, 2000]\n",
      "[400, 5, 7, 100, 200, 1000]\n",
      "[]\n"
     ]
    }
   ],
   "source": [
    "list1 = [1, 3, 5, 7, 100]\n",
    "# 添加元素\n",
    "list1.append(200)\n",
    "list1.insert(1, 400)\n",
    "# 合并两个列表\n",
    "# list1.extend([1000, 2000])\n",
    "list1 += [1000, 2000]\n",
    "print(list1) # [1, 400, 3, 5, 7, 100, 200, 1000, 2000]\n",
    "print(len(list1)) # 9\n",
    "# 先通过成员运算判断元素是否在列表中，如果存在就删除该元素\n",
    "if 3 in list1:\n",
    "\tlist1.remove(3)\n",
    "if 1234 in list1:\n",
    "    list1.remove(1234)\n",
    "print(list1) # [1, 400, 5, 7, 100, 200, 1000, 2000]\n",
    "# 从指定的位置删除元素\n",
    "list1.pop(0)\n",
    "list1.pop(len(list1) - 1)\n",
    "print(list1) # [400, 5, 7, 100, 200, 1000]\n",
    "# 清空列表元素\n",
    "list1.clear()\n",
    "print(list1) # []"
   ]
  },
  {
   "cell_type": "markdown",
   "metadata": {},
   "source": [
    "和字符串一样，列表也可以做切片操作，通过切片操作我们可以实现对列表的复制或者将列表中的一部分取出来创建出新的列表，代码如下所示。\n"
   ]
  },
  {
   "cell_type": "code",
   "execution_count": 13,
   "metadata": {},
   "outputs": [
    {
     "name": "stdout",
     "output_type": "stream",
     "text": [
      "['apple', 'strawberry', 'waxberry']\n",
      "['grape', 'apple', 'strawberry', 'waxberry', 'pitaya', 'pear', 'mango']\n",
      "['pitaya', 'pear']\n",
      "['mango', 'pear', 'pitaya', 'waxberry', 'strawberry', 'apple', 'grape']\n"
     ]
    }
   ],
   "source": [
    "fruits = ['grape', 'apple', 'strawberry', 'waxberry']\n",
    "fruits += ['pitaya', 'pear', 'mango']\n",
    "# 列表切片\n",
    "fruits2 = fruits[1:4]\n",
    "print(fruits2) # apple strawberry waxberry\n",
    "# 可以通过完整切片操作来复制列表\n",
    "fruits3 = fruits[:]\n",
    "print(fruits3) # ['grape', 'apple', 'strawberry', 'waxberry', 'pitaya', 'pear', 'mango']\n",
    "fruits4 = fruits[-3:-1]\n",
    "print(fruits4) # ['pitaya', 'pear']\n",
    "# 可以通过反向切片操作来获得倒转后的列表的拷贝\n",
    "fruits5 = fruits[::-1]\n",
    "print(fruits5) # ['mango', 'pear', 'pitaya', 'waxberry', 'strawberry', 'apple', 'grape']"
   ]
  },
  {
   "cell_type": "markdown",
   "metadata": {},
   "source": [
    "下面的代码实现了对列表的排序操作。\n"
   ]
  },
  {
   "cell_type": "code",
   "execution_count": 14,
   "metadata": {},
   "outputs": [
    {
     "name": "stdout",
     "output_type": "stream",
     "text": [
      "['orange', 'apple', 'zoo', 'internationalization', 'blueberry']\n",
      "['apple', 'blueberry', 'internationalization', 'orange', 'zoo']\n",
      "['zoo', 'orange', 'internationalization', 'blueberry', 'apple']\n",
      "['zoo', 'apple', 'orange', 'blueberry', 'internationalization']\n",
      "['zoo', 'orange', 'internationalization', 'blueberry', 'apple']\n"
     ]
    }
   ],
   "source": [
    "list1 = ['orange', 'apple', 'zoo', 'internationalization', 'blueberry']\n",
    "list2 = sorted(list1)\n",
    "# sorted函数返回列表排序后的拷贝不会修改传入的列表\n",
    "# 函数的设计就应该像sorted函数一样尽可能不产生副作用\n",
    "list3 = sorted(list1, reverse=True)\n",
    "# 通过key关键字参数指定根据字符串长度进行排序而不是默认的字母表顺序\n",
    "list4 = sorted(list1, key=len)\n",
    "print(list1)\n",
    "print(list2)\n",
    "print(list3)\n",
    "print(list4)\n",
    "# 给列表对象发出排序消息直接在列表对象上进行排序\n",
    "list1.sort(reverse=True)\n",
    "print(list1)"
   ]
  },
  {
   "cell_type": "markdown",
   "metadata": {},
   "source": [
    "### 生成式和生成器\n",
    "\n",
    "我们还可以使用列表的生成式语法来创建列表，代码如下所示。\n"
   ]
  },
  {
   "cell_type": "code",
   "execution_count": null,
   "metadata": {},
   "outputs": [],
   "source": [
    "# Mark: 生成式与生成器\n",
    "\n",
    "import sys\n",
    "f = [x for x in range(1, 10)]\n",
    "print(f)\n",
    "f = [x + y for x in 'ABCDE' for y in '1234567']\n",
    "print(f)\n",
    "# 用列表的生成表达式语法创建列表容器\n",
    "# 用这种语法创建列表之后元素已经准备就绪所以需要耗费较多的内存空间\n",
    "f = [x ** 2 for x in range(1, 1000)]\n",
    "print(sys.getsizeof(f))  # 查看对象占用内存的字节数\n",
    "print(f)\n",
    "# 请注意下面的代码创建的不是一个列表而是一个生成器对象\n",
    "# 通过生成器可以获取到数据但它不占用额外的空间存储数据\n",
    "# 每次需要数据的时候就通过内部的运算得到数据(需要花费额外的时间)\n",
    "f = (x ** 2 for x in range(1, 1000))\n",
    "print(sys.getsizeof(f))  # 相比生成式生成器不占用存储数据的空间\n",
    "print(f)\n",
    "for val in f:\n",
    "    print(val)"
   ]
  },
  {
   "cell_type": "markdown",
   "metadata": {},
   "source": [
    "除了上面提到的生成器语法，Python中还有另外一种定义生成器的方式，就是通过`yield`关键字将一个普通函数改造成生成器函数。下面的代码演示了如何实现一个生成[斐波拉切数列](https://zh.wikipedia.org/wiki/%E6%96%90%E6%B3%A2%E9%82%A3%E5%A5%91%E6%95%B0%E5%88%97)的生成器。所谓斐波拉切数列可以通过下面[递归](https://zh.wikipedia.org/wiki/%E9%80%92%E5%BD%92)的方法来进行定义：\n",
    "\n",
    "$${\\displaystyle F_{0}=0}$$\n",
    "\n",
    "$${\\displaystyle F_{1}=1}$$\n",
    "\n",
    "$${\\displaystyle F_{n}=F_{n-1}+F_{n-2}}({n}\\geq{2})$$\n",
    "\n",
    "$${\\displaystyle F_{n}=F_{n-1}+F_{n-2}}({n}\\geq{2})$$\n",
    "\n",
    "![image-20220912164507384](http://cdn.ayusummer233.top/img/202209121645479.png)\n"
   ]
  },
  {
   "cell_type": "code",
   "execution_count": 15,
   "metadata": {},
   "outputs": [
    {
     "name": "stdout",
     "output_type": "stream",
     "text": [
      "1\n",
      "1\n",
      "2\n",
      "3\n",
      "5\n",
      "8\n",
      "13\n",
      "21\n",
      "34\n",
      "55\n",
      "89\n",
      "144\n",
      "233\n",
      "377\n",
      "610\n",
      "987\n",
      "1597\n",
      "2584\n",
      "4181\n",
      "6765\n"
     ]
    }
   ],
   "source": [
    "# Mark: yield 用法(个人也不是很清楚其实用意义, 感觉看上去比较别扭, 没怎么实际用过)\n",
    "def fib(n):\n",
    "    a, b = 0, 1\n",
    "    for _ in range(n):\n",
    "        a, b = b, a + b\n",
    "        yield a\n",
    "\n",
    "\n",
    "def main():\n",
    "    for val in fib(20):\n",
    "        print(val)\n",
    "\n",
    "\n",
    "if __name__ == '__main__':\n",
    "    main()"
   ]
  },
  {
   "cell_type": "markdown",
   "metadata": {},
   "source": [
    "### 使用元组\n",
    "\n",
    "Python中的元组与列表类似也是一种容器数据类型，可以用一个变量（对象）来存储多个数据，不同之处在于元组的元素不能修改，在前面的代码中我们已经不止一次使用过元组了。顾名思义，我们把多个元素组合到一起就形成了一个元组，所以它和列表一样可以保存多条数据。下面的代码演示了如何定义和使用元组。\n"
   ]
  },
  {
   "cell_type": "code",
   "execution_count": 16,
   "metadata": {},
   "outputs": [
    {
     "name": "stdout",
     "output_type": "stream",
     "text": [
      "('骆昊', 38, True, '四川成都')\n",
      "骆昊\n",
      "四川成都\n",
      "骆昊\n",
      "38\n",
      "True\n",
      "四川成都\n",
      "('王大锤', 20, True, '云南昆明')\n",
      "['王大锤', 20, True, '云南昆明']\n",
      "['李小龙', 25, True, '云南昆明']\n",
      "('apple', 'banana', 'orange')\n"
     ]
    }
   ],
   "source": [
    "# 定义元组\n",
    "t = ('骆昊', 38, True, '四川成都')\n",
    "print(t)\n",
    "# 获取元组中的元素\n",
    "print(t[0])\n",
    "print(t[3])\n",
    "# 遍历元组中的值\n",
    "for member in t:\n",
    "    print(member)\n",
    "# 重新给元组赋值\n",
    "# t[0] = '王大锤'  # TypeError\n",
    "# 变量t重新引用了新的元组原来的元组将被垃圾回收\n",
    "t = ('王大锤', 20, True, '云南昆明')\n",
    "print(t)\n",
    "# 将元组转换成列表\n",
    "person = list(t)\n",
    "print(person)\n",
    "# 列表是可以修改它的元素的\n",
    "person[0] = '李小龙'\n",
    "person[1] = 25\n",
    "print(person)\n",
    "# 将列表转换成元组\n",
    "fruits_list = ['apple', 'banana', 'orange']\n",
    "fruits_tuple = tuple(fruits_list)\n",
    "print(fruits_tuple)"
   ]
  },
  {
   "cell_type": "markdown",
   "metadata": {},
   "source": [
    "> Mark: 为什么要有元组\n",
    "\n",
    "这里有一个非常值得探讨的问题，我们已经有了列表这种数据结构，为什么还需要元组这样的类型呢？\n",
    "\n",
    "1. 元组中的元素是无法修改的，事实上我们在项目中尤其是[多线程](https://zh.wikipedia.org/zh-hans/%E5%A4%9A%E7%BA%BF%E7%A8%8B)环境（后面会讲到）中可能更喜欢使用的是那些不变对象（一方面因为对象状态不能修改，所以可以避免由此引起的不必要的程序错误，简单的说就是一个不变的对象要比可变的对象更加容易维护；另一方面因为没有任何一个线程能够修改不变对象的内部状态，一个不变对象自动就是线程安全的，这样就可以省掉处理同步化的开销。一个不变对象可以方便的被共享访问）。所以结论就是：如果不需要对元素进行添加、删除、修改的时候，可以考虑使用元组，当然如果一个方法要返回多个值，使用元组也是不错的选择。\n",
    "2. 元组在创建时间和占用的空间上面都优于列表。我们可以使用sys模块的getsizeof函数来检查存储同样的元素的元组和列表各自占用了多少内存空间，这个很容易做到。我们也可以在ipython中使用魔法指令%timeit来分析创建同样内容的元组和列表所花费的时间，下图是我的macOS系统上测试的结果。\n",
    "\n",
    "![image-20220912164537681](http://cdn.ayusummer233.top/img/202209121645821.png)\n"
   ]
  },
  {
   "cell_type": "markdown",
   "metadata": {},
   "source": [
    "### 使用集合\n",
    "\n",
    "Python中的集合跟数学上的集合是一致的，不允许有重复元素，而且可以进行交集、并集、差集等运算。\n",
    "\n",
    "![image-20220912164632545](http://cdn.ayusummer233.top/img/202209121646627.png)\n",
    "\n",
    "可以按照下面代码所示的方式来创建和使用集合。\n"
   ]
  },
  {
   "cell_type": "code",
   "execution_count": 17,
   "metadata": {},
   "outputs": [
    {
     "name": "stdout",
     "output_type": "stream",
     "text": [
      "{1, 2, 3}\n",
      "Length = 3\n",
      "{1, 2, 3, 4, 5, 6, 7, 8, 9} {1, 2, 3}\n",
      "{3, 5, 6, 9, 10, 12, 15, 18, 20, 21, 24, 25, 27, 30, 33, 35, 36, 39, 40, 42, 45, 48, 50, 51, 54, 55, 57, 60, 63, 65, 66, 69, 70, 72, 75, 78, 80, 81, 84, 85, 87, 90, 93, 95, 96, 99}\n"
     ]
    }
   ],
   "source": [
    "# 创建集合的字面量语法\n",
    "set1 = {1, 2, 3, 3, 3, 2}\n",
    "print(set1)\n",
    "print('Length =', len(set1))\n",
    "# 创建集合的构造器语法(面向对象部分会进行详细讲解)\n",
    "set2 = set(range(1, 10))\n",
    "set3 = set((1, 2, 3, 3, 2, 1))\n",
    "print(set2, set3)\n",
    "# 创建集合的推导式语法(推导式也可以用于推导集合)\n",
    "set4 = {num for num in range(1, 100) if num % 3 == 0 or num % 5 == 0}\n",
    "print(set4)"
   ]
  },
  {
   "cell_type": "markdown",
   "metadata": {},
   "source": [
    "向集合添加元素和从集合删除元素。\n"
   ]
  },
  {
   "cell_type": "code",
   "execution_count": 18,
   "metadata": {},
   "outputs": [
    {
     "name": "stdout",
     "output_type": "stream",
     "text": [
      "{1, 2, 3, 4, 5} {1, 2, 3, 6, 7, 8, 9, 11, 12}\n",
      "1\n",
      "{2, 3}\n"
     ]
    }
   ],
   "source": [
    "set1.add(4)\n",
    "set1.add(5)\n",
    "set2.update([11, 12])\n",
    "set2.discard(5)\n",
    "if 4 in set2:\n",
    "    set2.remove(4)\n",
    "print(set1, set2)\n",
    "print(set3.pop())\n",
    "print(set3)"
   ]
  },
  {
   "cell_type": "markdown",
   "metadata": {},
   "source": [
    "集合的成员、交集、并集、差集等运算。\n"
   ]
  },
  {
   "cell_type": "code",
   "execution_count": 19,
   "metadata": {},
   "outputs": [
    {
     "name": "stdout",
     "output_type": "stream",
     "text": [
      "{1, 2, 3}\n",
      "{1, 2, 3, 4, 5, 6, 7, 8, 9, 11, 12}\n",
      "{4, 5}\n",
      "{4, 5, 6, 7, 8, 9, 11, 12}\n",
      "False\n",
      "True\n",
      "False\n",
      "True\n"
     ]
    }
   ],
   "source": [
    "# 集合的交集、并集、差集、对称差运算\n",
    "print(set1 & set2)\n",
    "# print(set1.intersection(set2))\n",
    "print(set1 | set2)\n",
    "# print(set1.union(set2))\n",
    "print(set1 - set2)\n",
    "# print(set1.difference(set2))\n",
    "print(set1 ^ set2)\n",
    "# print(set1.symmetric_difference(set2))\n",
    "# 判断子集和超集\n",
    "print(set2 <= set1)\n",
    "# print(set2.issubset(set1))\n",
    "print(set3 <= set1)\n",
    "# print(set3.issubset(set1))\n",
    "print(set1 >= set2)\n",
    "# print(set1.issuperset(set2))\n",
    "print(set1 >= set3)\n",
    "# print(set1.issuperset(set3))"
   ]
  },
  {
   "cell_type": "markdown",
   "metadata": {},
   "source": [
    "> **说明：** Python中允许通过一些特殊的方法来为某种类型或数据结构自定义运算符（后面的章节中会讲到），上面的代码中我们对集合进行运算的时候可以调用集合对象的方法，也可以直接使用对应的运算符，例如`&`运算符跟intersection方法的作用就是一样的，但是使用运算符让代码更加直观。\n"
   ]
  },
  {
   "cell_type": "markdown",
   "metadata": {},
   "source": [
    "### 使用字典\n",
    "\n",
    "字典是另一种可变容器模型，Python中的字典跟我们生活中使用的字典是一样一样的，它可以存储任意类型对象，与列表、集合不同的是，字典的每个元素都是由一个键和一个值组成的“键值对”，键和值通过冒号分开。下面的代码演示了如何定义和使用字典。\n"
   ]
  },
  {
   "cell_type": "code",
   "execution_count": 20,
   "metadata": {},
   "outputs": [
    {
     "name": "stdout",
     "output_type": "stream",
     "text": [
      "{'骆昊': 95, '白元芳': 78, '狄仁杰': 82}\n",
      "{'one': 1, 'two': 2, 'three': 3, 'four': 4} {'a': '1', 'b': '2', 'c': '3'} {1: 1, 2: 4, 3: 9, 4: 16, 5: 25, 6: 36, 7: 49, 8: 64, 9: 81}\n",
      "95\n",
      "82\n",
      "骆昊: 95\n",
      "白元芳: 78\n",
      "狄仁杰: 82\n",
      "{'骆昊': 95, '白元芳': 65, '狄仁杰': 82, '诸葛王朗': 71, '冷面': 67, '方启鹤': 85}\n",
      "None\n",
      "60\n",
      "('方启鹤', 85)\n",
      "('冷面', 67)\n",
      "95\n",
      "{}\n"
     ]
    }
   ],
   "source": [
    "# 创建字典的字面量语法\n",
    "scores = {'骆昊': 95, '白元芳': 78, '狄仁杰': 82}\n",
    "print(scores)\n",
    "# 创建字典的构造器语法\n",
    "items1 = dict(one=1, two=2, three=3, four=4)\n",
    "# 通过zip函数将两个序列压成字典(Mark)\n",
    "items2 = dict(zip(['a', 'b', 'c'], '123'))\n",
    "# 创建字典的推导式语法\n",
    "items3 = {num: num ** 2 for num in range(1, 10)}\n",
    "print(items1, items2, items3)\n",
    "# 通过键可以获取字典中对应的值\n",
    "print(scores['骆昊'])\n",
    "print(scores['狄仁杰'])\n",
    "# 对字典中所有键值对进行遍历\n",
    "for key in scores:\n",
    "    print(f'{key}: {scores[key]}')\n",
    "# 更新字典中的元素\n",
    "scores['白元芳'] = 65\n",
    "scores['诸葛王朗'] = 71\n",
    "scores.update(冷面=67, 方启鹤=85)\n",
    "print(scores)\n",
    "if '武则天' in scores:\n",
    "    print(scores['武则天'])\n",
    "print(scores.get('武则天'))\n",
    "# get方法也是通过键获取对应的值但是可以设置默认值\n",
    "print(scores.get('武则天', 60))\n",
    "# 删除字典中的元素\n",
    "print(scores.popitem())\n",
    "print(scores.popitem())\n",
    "print(scores.pop('骆昊', 100))\n",
    "# 清空字典\n",
    "scores.clear()\n",
    "print(scores)"
   ]
  },
  {
   "cell_type": "markdown",
   "metadata": {},
   "source": [
    "### 练习\n"
   ]
  },
  {
   "cell_type": "markdown",
   "metadata": {},
   "source": [
    "#### 练习1：在屏幕上显示跑马灯文字。\n",
    "\n"
   ]
  },
  {
   "cell_type": "code",
   "execution_count": null,
   "metadata": {},
   "outputs": [],
   "source": [
    "# 参考答案：\n",
    "import os\n",
    "import time\n",
    "\n",
    "\n",
    "def main():\n",
    "    content = '北京欢迎你为你开天辟地…………'\n",
    "    while True:\n",
    "        # 清理屏幕上的输出\n",
    "        os.system('cls')  # os.system('clear')\n",
    "        print(content)\n",
    "        # 休眠200毫秒\n",
    "        time.sleep(0.2)\n",
    "        content = content[1:] + content[0]\n",
    "\n",
    "\n",
    "if __name__ == '__main__':\n",
    "    main()"
   ]
  },
  {
   "cell_type": "markdown",
   "metadata": {},
   "source": [
    "#### 练习2：设计一个函数产生指定长度的验证码，验证码由大小写字母和数字构成。\n"
   ]
  },
  {
   "cell_type": "code",
   "execution_count": 24,
   "metadata": {},
   "outputs": [],
   "source": [
    "# 参考答案：\n",
    "import random\n",
    "\n",
    "\n",
    "def generate_code(code_len=4):\n",
    "    \"\"\"\n",
    "    生成指定长度的验证码\n",
    "\n",
    "    :param code_len: 验证码的长度(默认4个字符)\n",
    "\n",
    "    :return: 由大小写英文字母和数字构成的随机验证码\n",
    "    \"\"\"\n",
    "    all_chars = '0123456789abcdefghijklmnopqrstuvwxyzABCDEFGHIJKLMNOPQRSTUVWXYZ'\n",
    "    last_pos = len(all_chars) - 1\n",
    "    code = ''\n",
    "    for _ in range(code_len):\n",
    "        index = random.randint(0, last_pos)\n",
    "        code += all_chars[index]\n",
    "    return code"
   ]
  },
  {
   "cell_type": "markdown",
   "metadata": {},
   "source": [
    "#### 练习3：设计一个函数返回给定文件名的后缀名。\n"
   ]
  },
  {
   "cell_type": "code",
   "execution_count": 25,
   "metadata": {},
   "outputs": [],
   "source": [
    "# 参考答案：\n",
    "def get_suffix(filename, has_dot=False):\n",
    "    \"\"\"\n",
    "    获取文件名的后缀名\n",
    "\n",
    "    :param filename: 文件名\n",
    "    :param has_dot: 返回的后缀名是否需要带点\n",
    "    :return: 文件的后缀名\n",
    "    \"\"\"\n",
    "    pos = filename.rfind('.')\n",
    "    if 0 < pos < len(filename) - 1:\n",
    "        index = pos if has_dot else pos + 1\n",
    "        return filename[index:]\n",
    "    else:\n",
    "        return ''"
   ]
  },
  {
   "cell_type": "markdown",
   "metadata": {},
   "source": [
    "#### 练习4：设计一个函数返回传入的列表中最大和第二大的元素的值。\n"
   ]
  },
  {
   "cell_type": "code",
   "execution_count": 26,
   "metadata": {},
   "outputs": [],
   "source": [
    "def max2(x):\n",
    "    m1, m2 = (x[0], x[1]) if x[0] > x[1] else (x[1], x[0])\n",
    "    for index in range(2, len(x)):\n",
    "        if x[index] > m1:\n",
    "            m2 = m1\n",
    "            m1 = x[index]\n",
    "        elif x[index] > m2:\n",
    "            m2 = x[index]\n",
    "    return m1, m2"
   ]
  },
  {
   "cell_type": "markdown",
   "metadata": {},
   "source": [
    "#### 练习5：计算指定的年月日是这一年的第几天。\n"
   ]
  },
  {
   "cell_type": "code",
   "execution_count": 27,
   "metadata": {},
   "outputs": [
    {
     "name": "stdout",
     "output_type": "stream",
     "text": [
      "333\n",
      "365\n",
      "1\n",
      "61\n"
     ]
    }
   ],
   "source": [
    "# 参考答案：\n",
    "def is_leap_year(year):\n",
    "    \"\"\"\n",
    "    判断指定的年份是不是闰年\n",
    "\n",
    "    :param year: 年份\n",
    "    :return: 闰年返回True平年返回False\n",
    "    \"\"\"\n",
    "    return year % 4 == 0 and year % 100 != 0 or year % 400 == 0\n",
    "\n",
    "\n",
    "def which_day(year, month, date):\n",
    "    \"\"\"\n",
    "    计算传入的日期是这一年的第几天\n",
    "\n",
    "    :param year: 年\n",
    "    :param month: 月\n",
    "    :param date: 日\n",
    "    :return: 第几天\n",
    "    \"\"\"\n",
    "    days_of_month = [\n",
    "        [31, 28, 31, 30, 31, 30, 31, 31, 30, 31, 30, 31],\n",
    "        [31, 29, 31, 30, 31, 30, 31, 31, 30, 31, 30, 31]\n",
    "    ][is_leap_year(year)]\n",
    "    total = 0\n",
    "    for index in range(month - 1):\n",
    "        total += days_of_month[index]\n",
    "    return total + date\n",
    "\n",
    "\n",
    "def main():\n",
    "    print(which_day(1980, 11, 28))\n",
    "    print(which_day(1981, 12, 31))\n",
    "    print(which_day(2018, 1, 1))\n",
    "    print(which_day(2016, 3, 1))\n",
    "\n",
    "\n",
    "if __name__ == '__main__':\n",
    "    main()"
   ]
  },
  {
   "cell_type": "markdown",
   "metadata": {},
   "source": [
    "#### 练习6：打印[杨辉三角](https://zh.wikipedia.org/wiki/%E6%9D%A8%E8%BE%89%E4%B8%89%E8%A7%92%E5%BD%A2)。\n"
   ]
  },
  {
   "cell_type": "code",
   "execution_count": 28,
   "metadata": {},
   "outputs": [
    {
     "name": "stdout",
     "output_type": "stream",
     "text": [
      "1\t\n",
      "1\t1\t\n",
      "1\t2\t1\t\n",
      "1\t3\t3\t1\t\n"
     ]
    }
   ],
   "source": [
    "# 参考答案：\n",
    "def main():\n",
    "    num = int(input('Number of rows: '))\n",
    "    yh = [[]] * num\n",
    "    for row in range(len(yh)):\n",
    "        yh[row] = [None] * (row + 1)\n",
    "        for col in range(len(yh[row])):\n",
    "            if col == 0 or col == row:\n",
    "                yh[row][col] = 1\n",
    "            else:\n",
    "                yh[row][col] = yh[row - 1][col] + yh[row - 1][col - 1]\n",
    "            print(yh[row][col], end='\\t')\n",
    "        print()\n",
    "\n",
    "\n",
    "if __name__ == '__main__':\n",
    "    main()"
   ]
  },
  {
   "cell_type": "markdown",
   "metadata": {},
   "source": [
    "### 综合案例\n"
   ]
  },
  {
   "cell_type": "markdown",
   "metadata": {},
   "source": [
    "#### 案例1：双色球选号。\n"
   ]
  },
  {
   "cell_type": "code",
   "execution_count": 29,
   "metadata": {},
   "outputs": [
    {
     "name": "stdout",
     "output_type": "stream",
     "text": [
      "07 08 19 26 32 33 | 04 \n",
      "07 14 22 23 26 27 | 10 \n",
      "07 13 17 19 22 32 | 09 \n"
     ]
    }
   ],
   "source": [
    "from random import randrange, randint, sample\n",
    "\n",
    "\n",
    "def display(balls):\n",
    "    \"\"\"\n",
    "    输出列表中的双色球号码\n",
    "    \"\"\"\n",
    "    for index, ball in enumerate(balls):\n",
    "        if index == len(balls) - 1:\n",
    "            print('|', end=' ')\n",
    "        print('%02d' % ball, end=' ')\n",
    "    print()\n",
    "\n",
    "\n",
    "def random_select():\n",
    "    \"\"\"\n",
    "    随机选择一组号码\n",
    "    \"\"\"\n",
    "    red_balls = [x for x in range(1, 34)]\n",
    "    selected_balls = []\n",
    "    selected_balls = sample(red_balls, 6)\n",
    "    selected_balls.sort()\n",
    "    selected_balls.append(randint(1, 16))\n",
    "    return selected_balls\n",
    "\n",
    "\n",
    "def main():\n",
    "    n = int(input('机选几注: '))\n",
    "    for _ in range(n):\n",
    "        display(random_select())\n",
    "\n",
    "\n",
    "if __name__ == '__main__':\n",
    "    main()"
   ]
  },
  {
   "cell_type": "markdown",
   "metadata": {},
   "source": [
    "> **说明：** 上面使用random模块的sample函数来实现从列表中选择不重复的n个元素。\n"
   ]
  },
  {
   "cell_type": "markdown",
   "metadata": {},
   "source": [
    "#### 综合案例2：[约瑟夫环问题](https://zh.wikipedia.org/wiki/%E7%BA%A6%E7%91%9F%E5%A4%AB%E6%96%AF%E9%97%AE%E9%A2%98)。\n"
   ]
  },
  {
   "cell_type": "code",
   "execution_count": 30,
   "metadata": {},
   "outputs": [
    {
     "name": "stdout",
     "output_type": "stream",
     "text": [
      "基基基基非非非非非基基非基基基非基非非基基非非非基非非基基非"
     ]
    }
   ],
   "source": [
    "\"\"\"\n",
    "《幸运的基督徒》\n",
    "有15个基督徒和15个非基督徒在海上遇险，为了能让一部分人活下来不得不将其中15个人扔到海里面去，有个人想了个办法就是大家围成一个圈，由某个人开始从1报数，报到9的人就扔到海里面，他后面的人接着从1开始报数，报到9的人继续扔到海里面，直到扔掉15个人。由于上帝的保佑，15个基督徒都幸免于难，问这些人最开始是怎么站的，哪些位置是基督徒哪些位置是非基督徒。\n",
    "\"\"\"\n",
    "\n",
    "\n",
    "def main():\n",
    "    persons = [True] * 30\n",
    "    counter, index, number = 0, 0, 0\n",
    "    while counter < 15:\n",
    "        if persons[index]:\n",
    "            number += 1\n",
    "            if number == 9:\n",
    "                persons[index] = False\n",
    "                counter += 1\n",
    "                number = 0\n",
    "        index += 1\n",
    "        index %= 30\n",
    "    for person in persons:\n",
    "        print('基' if person else '非', end='')\n",
    "\n",
    "\n",
    "if __name__ == '__main__':\n",
    "    main()"
   ]
  },
  {
   "cell_type": "markdown",
   "metadata": {},
   "source": [
    "#### 综合案例3：[井字棋](https://zh.wikipedia.org/wiki/%E4%BA%95%E5%AD%97%E6%A3%8B)游戏。\n"
   ]
  },
  {
   "cell_type": "code",
   "execution_count": null,
   "metadata": {},
   "outputs": [],
   "source": [
    "import os\n",
    "\n",
    "\n",
    "def print_board(board):\n",
    "    print(board['TL'] + '|' + board['TM'] + '|' + board['TR'])\n",
    "    print('-+-+-')\n",
    "    print(board['ML'] + '|' + board['MM'] + '|' + board['MR'])\n",
    "    print('-+-+-')\n",
    "    print(board['BL'] + '|' + board['BM'] + '|' + board['BR'])\n",
    "\n",
    "\n",
    "def main():\n",
    "    init_board = {\n",
    "        'TL': ' ', 'TM': ' ', 'TR': ' ',\n",
    "        'ML': ' ', 'MM': ' ', 'MR': ' ',\n",
    "        'BL': ' ', 'BM': ' ', 'BR': ' '\n",
    "    }\n",
    "    begin = True\n",
    "    while begin:\n",
    "        curr_board = init_board.copy()\n",
    "        begin = False\n",
    "        turn = 'x'\n",
    "        counter = 0\n",
    "        os.system('clear')\n",
    "        print_board(curr_board)\n",
    "        while counter < 9:\n",
    "            move = input('轮到%s走棋, 请输入位置: ' % turn)\n",
    "            if curr_board[move] == ' ':\n",
    "                counter += 1\n",
    "                curr_board[move] = turn\n",
    "                if turn == 'x':\n",
    "                    turn = 'o'\n",
    "                else:\n",
    "                    turn = 'x'\n",
    "            os.system('clear')\n",
    "            print_board(curr_board)\n",
    "        choice = input('再玩一局?(yes|no)')\n",
    "        begin = choice == 'yes'\n",
    "\n",
    "\n",
    "if __name__ == '__main__':\n",
    "    main()"
   ]
  },
  {
   "cell_type": "markdown",
   "metadata": {},
   "source": [
    ">**说明：** 最后这个案例来自[《Python编程快速上手:让繁琐工作自动化》](https://item.jd.com/11943853.html)一书（这本书对有编程基础想迅速使用Python将日常工作自动化的人来说还是不错的选择），对代码做了一点点的调整。"
   ]
  }
 ],
 "metadata": {
  "kernelspec": {
   "display_name": "Python 3.10.4 ('pl')",
   "language": "python",
   "name": "python3"
  },
  "language_info": {
   "codemirror_mode": {
    "name": "ipython",
    "version": 3
   },
   "file_extension": ".py",
   "mimetype": "text/x-python",
   "name": "python",
   "nbconvert_exporter": "python",
   "pygments_lexer": "ipython3",
   "version": "3.10.4"
  },
  "orig_nbformat": 4,
  "vscode": {
   "interpreter": {
    "hash": "526af95d1ed2fcd5e87194c854c535b0d53eed2d887f5bd0090e9d620abbee53"
   }
  }
 },
 "nbformat": 4,
 "nbformat_minor": 2
}
