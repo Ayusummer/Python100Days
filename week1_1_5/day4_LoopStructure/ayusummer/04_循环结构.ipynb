{
 "cells": [
  {
   "cell_type": "markdown",
   "metadata": {},
   "source": [
    "# 练习\n"
   ]
  },
  {
   "cell_type": "markdown",
   "metadata": {},
   "source": [
    "## 练习1：输入一个正整数判断是不是素数。\n",
    "\n",
    "> **提示**：素数指的是只能被1和自身整除的大于1的整数。\n",
    "\n"
   ]
  },
  {
   "cell_type": "code",
   "execution_count": 2,
   "metadata": {},
   "outputs": [
    {
     "name": "stdout",
     "output_type": "stream",
     "text": [
      "6不是素数\n"
     ]
    }
   ],
   "source": [
    "from math import sqrt\n",
    "\n",
    "def is_prime(num: int) -> bool:\n",
    "    \"\"\"判断一个数是否为素数\"\"\"\n",
    "    for i in range(2, int(sqrt(num)) + 1):\n",
    "        if num % i == 0:\n",
    "            return False\n",
    "    return True\n",
    "\n",
    "num = int(input(\"请输入一个正整数：\"))\n",
    "print(f\"{num}是素数\" if is_prime(num) else f\"{num}不是素数\")"
   ]
  },
  {
   "cell_type": "markdown",
   "metadata": {},
   "source": [
    "## 练习2：输入两个正整数，计算它们的最大公约数和最小公倍数。\n",
    "\n",
    "> **提示**：两个数的最大公约数是两个数的公共因子中最大的那个数；两个数的最小公倍数则是能够同时被两个数整除的最小的那个数。\n"
   ]
  },
  {
   "cell_type": "code",
   "execution_count": 6,
   "metadata": {},
   "outputs": [
    {
     "name": "stdout",
     "output_type": "stream",
     "text": [
      "32和66的最大公约数为2\n",
      "32和66的最小公倍数为1056\n"
     ]
    }
   ],
   "source": [
    "def max_common_divisor(a: int, b: int) -> int:\n",
    "    \"\"\"计算两个数的最大公约数  \n",
    "    :param a: 第一个数\n",
    "    :param b: 第二个数\n",
    "    :return: 最大公约数\n",
    "    \"\"\"\n",
    "    if a>b:\n",
    "        a,b=b,a\n",
    "    for i in range(a,0,-1):\n",
    "        if a%i==0 and b%i==0:\n",
    "            return i\n",
    "\n",
    "def min_common_multiple(a: int, b: int) -> int:\n",
    "    \"\"\"计算两个数的最小公倍数  \n",
    "    :param a: 第一个数\n",
    "    :param b: 第二个数\n",
    "    :return: 最小公倍数\n",
    "    \"\"\"\n",
    "    return a*b//max_common_divisor(a,b)\n",
    "\n",
    "a, b = map(int, input(\"请输入两个正整数，用空格隔开：\").split())\n",
    "print(f\"{a}和{b}的最大公约数为{max_common_divisor(a, b)}\")\n",
    "print(f\"{a}和{b}的最小公倍数为{min_common_multiple(a, b)}\")"
   ]
  },
  {
   "cell_type": "markdown",
   "metadata": {},
   "source": [
    "## 练习3：打印如下所示的三角形图案。\n",
    "\n",
    "```\n",
    "*\n",
    "**\n",
    "***\n",
    "****\n",
    "*****\n",
    "```\n",
    "\n",
    "```\n",
    "    *\n",
    "   **\n",
    "  ***\n",
    " ****\n",
    "*****\n",
    "```\n",
    "\n",
    "```\n",
    "    *\n",
    "   ***\n",
    "  *****\n",
    " *******\n",
    "*********\n",
    "```\n"
   ]
  },
  {
   "cell_type": "code",
   "execution_count": 8,
   "metadata": {},
   "outputs": [
    {
     "name": "stdout",
     "output_type": "stream",
     "text": [
      "*\n",
      "**\n",
      "***\n",
      "****\n",
      "*****\n",
      "\n",
      "    *\n",
      "   **\n",
      "  ***\n",
      " ****\n",
      "*****\n",
      "\n",
      "    *\n",
      "   ***\n",
      "  *****\n",
      " *******\n",
      "*********\n"
     ]
    }
   ],
   "source": [
    "for i in range(1, 6):\n",
    "    print(\"*\"*i)\n",
    "\n",
    "print(\"\")\n",
    "\n",
    "for i in range(1, 6):\n",
    "    print(\" \"*(5-i), end=\"\")\n",
    "    print(\"*\"*i)\n",
    "\n",
    "print(\"\")\n",
    "\n",
    "for i in range(1, 6):\n",
    "    print(\" \"*(5-i), end=\"\")\n",
    "    print(\"*\"*(2*i-1))\n"
   ]
  }
 ],
 "metadata": {
  "kernelspec": {
   "display_name": "Python 3.10.4 ('pl')",
   "language": "python",
   "name": "python3"
  },
  "language_info": {
   "codemirror_mode": {
    "name": "ipython",
    "version": 3
   },
   "file_extension": ".py",
   "mimetype": "text/x-python",
   "name": "python",
   "nbconvert_exporter": "python",
   "pygments_lexer": "ipython3",
   "version": "3.10.4"
  },
  "orig_nbformat": 4,
  "vscode": {
   "interpreter": {
    "hash": "526af95d1ed2fcd5e87194c854c535b0d53eed2d887f5bd0090e9d620abbee53"
   }
  }
 },
 "nbformat": 4,
 "nbformat_minor": 2
}
