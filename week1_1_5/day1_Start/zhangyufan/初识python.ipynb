{
 "cells": [
  {
   "cell_type": "markdown",
   "metadata": {},
   "source": [
    "# 练习\n"
   ]
  },
  {
   "cell_type": "markdown",
   "metadata": {},
   "source": [
    "## 命令行交互\n",
    "\n",
    "1. 在 Python 交互式环境中输入 `import this` 并查看结果，请尝试将看到的内容翻译成中文。\n",
    "\n",
    "> **说明**：输入上面的代码，在Python的交互式环境中可以看到Tim Peter撰写的[“Python之禅”](../Python之禅.md)，里面讲述的道理不仅仅适用于Python，也适用于其他编程语言。\n"
   ]
  },
  {
   "cell_type": "code",
   "execution_count": 2,
   "metadata": {},
   "outputs": [
    {
     "name": "stdout",
     "output_type": "stream",
     "text": [
      "The Zen of Python, by Tim Peters\n",
      "\n",
      "Beautiful is better than ugly.\n",
      "Explicit is better than implicit.\n",
      "Simple is better than complex.\n",
      "Complex is better than complicated.\n",
      "Flat is better than nested.\n",
      "Sparse is better than dense.\n",
      "Readability counts.\n",
      "Special cases aren't special enough to break the rules.\n",
      "Although practicality beats purity.\n",
      "Errors should never pass silently.\n",
      "Unless explicitly silenced.\n",
      "In the face of ambiguity, refuse the temptation to guess.\n",
      "There should be one-- and preferably only one --obvious way to do it.\n",
      "Although that way may not be obvious at first unless you're Dutch.\n",
      "Now is better than never.\n",
      "Although never is often better than *right* now.\n",
      "If the implementation is hard to explain, it's a bad idea.\n",
      "If the implementation is easy to explain, it may be a good idea.\n",
      "Namespaces are one honking great idea -- let's do more of those!\n"
     ]
    }
   ],
   "source": [
    "import this"
   ]
  },
  {
   "cell_type": "markdown",
   "metadata": {},
   "source": [
    "## turtle 使用\n",
    "\n",
    "2. 学习使用turtle在屏幕上绘制图形。\n",
    "\n",
    "> **说明**：turtle是Python内置的一个非常有趣的模块，特别适合对计算机程序设计进行初体验的小伙伴，它最早是Logo语言的一部分，Logo语言是Wally Feurzig和Seymour Papert在1966发明的编程语言。\n",
    "\n",
    "```Python\n",
    "import turtle\n",
    "\n",
    "turtle.pensize(4)\n",
    "turtle.pencolor('red')\n",
    "\n",
    "turtle.forward(100)\n",
    "turtle.right(90)\n",
    "turtle.forward(100)\n",
    "turtle.right(90)\n",
    "turtle.forward(100)\n",
    "turtle.right(90)\n",
    "turtle.forward(100)\n",
    "\n",
    "turtle.mainloop()\n",
    "```\n",
    "\n",
    "> **提示**：本章提供的代码中还有画国旗和画小猪佩奇的代码，有兴趣的读者请自行研究。  \n",
    "> [Python-100-Days/flag.py at master · jackfrued/Python-100-Days (github.com)](https://github.com/jackfrued/Python-100-Days/blob/master/Day01-15/code/Day01/flag.py)\n"
   ]
  },
  {
   "cell_type": "code",
   "execution_count": 3,
   "metadata": {},
   "outputs": [],
   "source": [
    "# 注: turtle 是 Python 内置的模块, 在 Python环境根目录的 lib 目录下有个 turtle.py\n",
    "import turtle\n",
    "\n",
    "turtle.pensize(4)\n",
    "turtle.pencolor('red')\n",
    "\n",
    "turtle.forward(100)\n",
    "turtle.right(90)\n",
    "turtle.forward(100)\n",
    "turtle.right(90)\n",
    "turtle.forward(100)\n",
    "turtle.right(90)\n",
    "turtle.forward(100)\n",
    "\n",
    "turtle.mainloop()"
   ]
  }
 ],
 "metadata": {
  "kernelspec": {
   "display_name": "Python 3.10.4 ('pl')",
   "language": "python",
   "name": "python3"
  },
  "language_info": {
   "codemirror_mode": {
    "name": "ipython",
    "version": 3
   },
   "file_extension": ".py",
   "mimetype": "text/x-python",
   "name": "python",
   "nbconvert_exporter": "python",
   "pygments_lexer": "ipython3",
   "version": "3.10.4"
  },
  "orig_nbformat": 4,
  "vscode": {
   "interpreter": {
    "hash": "526af95d1ed2fcd5e87194c854c535b0d53eed2d887f5bd0090e9d620abbee53"
   }
  }
 },
 "nbformat": 4,
 "nbformat_minor": 2
}
