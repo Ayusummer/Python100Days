{
 "cells": [
  {
   "cell_type": "markdown",
   "metadata": {},
   "source": [
    "# 练习1：华氏温度转换为摄氏温度\n",
    "\n",
    "> 提示：华氏温度到摄氏温度的转换公式为：$C=(F - 32) \\div 1.8$。"
   ]
  },
  {
   "cell_type": "code",
   "execution_count": 13,
   "metadata": {},
   "outputs": [
    {
     "name": "stdout",
     "output_type": "stream",
     "text": [
      "华氏度 100.0 转换为摄氏温度为: 37.78\n"
     ]
    }
   ],
   "source": [
    "f = float(input('请输入华氏度: '))\n",
    "c = (f - 32) / 1.8\n",
    "# # 计算结果保留 2 位小数\n",
    "c = round(c, 2)\n",
    "\n",
    "# print(\"华氏温度{0}转换为摄氏温度为:{1}\".format(f,c))\n",
    "# 不适用 fromat, 直接用 fstring\n",
    "print(f'华氏度 {f} 转换为摄氏温度为: {c}')"
   ]
  },
  {
   "cell_type": "markdown",
   "metadata": {},
   "source": [
    "参考答案中的写法更简洁, 直接用格式化字符串, 在输出的时候保留小数"
   ]
  },
  {
   "cell_type": "code",
   "execution_count": 16,
   "metadata": {},
   "outputs": [
    {
     "name": "stdout",
     "output_type": "stream",
     "text": [
      "华氏度 100.0 ℉转换为摄氏温度为: 37.8 ℃\n"
     ]
    }
   ],
   "source": [
    "f = float(input('请输入华氏度: '))\n",
    "c = (f - 32) / 1.8\n",
    "print(f'华氏度 {f:.1f} ℉转换为摄氏温度为: {c:.1f} ℃')\n"
   ]
  },
  {
   "cell_type": "markdown",
   "metadata": {},
   "source": [
    "# 练习2：输入圆的半径计算计算周长和面积"
   ]
  },
  {
   "cell_type": "code",
   "execution_count": 17,
   "metadata": {},
   "outputs": [
    {
     "name": "stdout",
     "output_type": "stream",
     "text": [
      "圆的周长为: 25.12, 面积为 50.24\n"
     ]
    }
   ],
   "source": [
    "r = float(input('请输入圆的半径: '))\n",
    "print(f'圆的周长为: {2 * 3.14 * r:.2f}, 面积为 {3.14 * r * r:.2f}')"
   ]
  },
  {
   "cell_type": "markdown",
   "metadata": {},
   "source": [
    "# 练习3：输入年份判断是不是闰年"
   ]
  },
  {
   "cell_type": "code",
   "execution_count": 20,
   "metadata": {},
   "outputs": [
    {
     "name": "stdout",
     "output_type": "stream",
     "text": [
      "2022 是闰年吗?: False\n"
     ]
    }
   ],
   "source": [
    "year = int(input('请输入年份: '))\n",
    "is_leap = (year % 4 == 0 and year % 100 != 0) or year % 400 == 0\n",
    "print(f'{year} 是闰年吗?: {is_leap}')"
   ]
  }
 ],
 "metadata": {
  "kernelspec": {
   "display_name": "Python 3.10.4 ('pl')",
   "language": "python",
   "name": "python3"
  },
  "language_info": {
   "codemirror_mode": {
    "name": "ipython",
    "version": 3
   },
   "file_extension": ".py",
   "mimetype": "text/x-python",
   "name": "python",
   "nbconvert_exporter": "python",
   "pygments_lexer": "ipython3",
   "version": "3.10.4"
  },
  "orig_nbformat": 4,
  "vscode": {
   "interpreter": {
    "hash": "526af95d1ed2fcd5e87194c854c535b0d53eed2d887f5bd0090e9d620abbee53"
   }
  }
 },
 "nbformat": 4,
 "nbformat_minor": 2
}
