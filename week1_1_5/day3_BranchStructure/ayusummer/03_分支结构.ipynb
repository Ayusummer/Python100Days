{
 "cells": [
  {
   "cell_type": "markdown",
   "metadata": {},
   "source": [
    "## 分支结构\n"
   ]
  },
  {
   "cell_type": "markdown",
   "metadata": {},
   "source": [
    "### 应用场景\n",
    "\n",
    "迄今为止，我们写的Python代码都是一条一条语句顺序执行，这种代码结构通常称之为顺序结构。然而仅有顺序结构并不能解决所有的问题，比如我们设计一个游戏，游戏第一关的通关条件是玩家获得1000分，那么在完成本局游戏后，我们要根据玩家得到分数来决定究竟是进入第二关，还是告诉玩家“Game Over”，这里就会产生两个分支，而且这两个分支只有一个会被执行。类似的场景还有很多，我们将这种结构称之为“分支结构”或“选择结构”。给大家一分钟的时间，你应该可以想到至少5个以上这样的例子，赶紧试一试。\n"
   ]
  },
  {
   "cell_type": "markdown",
   "metadata": {},
   "source": [
    "### if语句的使用\n",
    "\n",
    "在Python中，要构造分支结构可以使用`if`、`elif`和`else`关键字。所谓**关键字**就是有特殊含义的单词，像`if`和`else`就是专门用于构造分支结构的关键字，很显然你不能够使用它作为变量名（事实上，用作其他的标识符也是不可以）。下面的例子中演示了如何构造一个分支结构。\n"
   ]
  },
  {
   "cell_type": "code",
   "execution_count": 1,
   "metadata": {},
   "outputs": [
    {
     "name": "stdout",
     "output_type": "stream",
     "text": [
      "身份验证失败!\n"
     ]
    }
   ],
   "source": [
    "\"\"\"\n",
    "用户身份验证\n",
    "\n",
    "Version: 0.1\n",
    "Author: 骆昊\n",
    "\"\"\"\n",
    "username = input('请输入用户名: ')\n",
    "password = input('请输入口令: ')\n",
    "# 用户名是admin且密码是123456则身份验证成功否则身份验证失败\n",
    "if username == 'admin' and password == '123456':\n",
    "    print('身份验证成功!')\n",
    "else:\n",
    "    print('身份验证失败!')"
   ]
  },
  {
   "cell_type": "markdown",
   "metadata": {},
   "source": [
    "需要说明的是和C/C++、Java等语言不同，Python中没有用花括号来构造代码块而是**使用了缩进的方式来表示代码的层次结构**，如果`if`条件成立的情况下需要执行多条语句，只要保持多条语句具有相同的缩进就可以了。换句话说**连续的代码如果又保持了相同的缩进那么它们属于同一个代码块**，相当于是一个执行的整体。**缩进**可以使用任意数量的空格，但**通常使用4个空格**，建议大家**不要使用制表键**或者**设置你的代码编辑工具自动将制表键变成4个空格**。\n",
    "\n",
    "当然如果要构造出更多的分支，可以使用`if...elif...else...`结构或者嵌套的`if...else...`结构，下面的代码演示了如何利用多分支结构实现分段函数求值。\n",
    "\n",
    "$$f(x)=\\begin{cases} 3x-5&\\text{(x>1)}\\\\x+2&\\text{(-1}\\leq\\text{x}\\leq\\text{1)}\\\\5x+3&\\text {(x<-1)}\\end{cases}$$\n"
   ]
  },
  {
   "cell_type": "code",
   "execution_count": 2,
   "metadata": {},
   "outputs": [
    {
     "name": "stdout",
     "output_type": "stream",
     "text": [
      "f(3.00) = 4.00\n"
     ]
    }
   ],
   "source": [
    "\"\"\"\n",
    "分段函数求值\n",
    "\n",
    "        3x - 5  (x > 1)\n",
    "f(x) =  x + 2   (-1 <= x <= 1)\n",
    "        5x + 3  (x < -1)\n",
    "\n",
    "Version: 0.1\n",
    "Author: 骆昊\n",
    "\"\"\"\n",
    "\n",
    "x = float(input('x = '))\n",
    "if x > 1:\n",
    "    y = 3 * x - 5\n",
    "elif x >= -1:\n",
    "    y = x + 2\n",
    "else:\n",
    "    y = 5 * x + 3\n",
    "print('f(%.2f) = %.2f' % (x, y))"
   ]
  },
  {
   "cell_type": "markdown",
   "metadata": {},
   "source": [
    "当然根据实际开发的需要，分支结构是可以嵌套的，例如判断是否通关以后还要根据你获得的宝物或者道具的数量对你的表现给出等级（比如点亮两颗或三颗星星），那么我们就需要在`if`的内部构造出一个新的分支结构，同理`elif`和`else`中也可以再构造新的分支，我们称之为嵌套的分支结构，也就是说上面的代码也可以写成下面的样子。\n",
    "\n",
    "```Python\n",
    "\"\"\"\n",
    "分段函数求值\n",
    "\t\t3x - 5\t(x > 1)\n",
    "f(x) =\tx + 2\t(-1 <= x <= 1)\n",
    "\t\t5x + 3\t(x < -1)\n",
    "\n",
    "Version: 0.1\n",
    "Author: 骆昊\n",
    "\"\"\"\n",
    "\n",
    "x = float(input('x = '))\n",
    "if x > 1:\n",
    "    y = 3 * x - 5\n",
    "else:\n",
    "    if x >= -1:\n",
    "        y = x + 2\n",
    "    else:\n",
    "        y = 5 * x + 3\n",
    "print('f(%.2f) = %.2f' % (x, y))\n",
    "```\n",
    "\n",
    "> **说明：** 大家可以自己感受一下这两种写法到底是哪一种更好。在之前我们提到的Python之禅中有这么一句话“Flat is better than nested.”，之所以提倡代码“扁平化”是因为嵌套结构的嵌套层次多了之后会严重的影响代码的可读性，所以能使用扁平化的结构时就不要使用嵌套。\n",
    "\n"
   ]
  },
  {
   "cell_type": "markdown",
   "metadata": {},
   "source": [
    "### 练习\n"
   ]
  },
  {
   "cell_type": "markdown",
   "metadata": {},
   "source": [
    "#### 练习1：英制单位英寸与公制单位厘米互换。\n"
   ]
  },
  {
   "cell_type": "code",
   "execution_count": 4,
   "metadata": {},
   "outputs": [
    {
     "name": "stdout",
     "output_type": "stream",
     "text": [
      "3.00英寸 = 7.62厘米\n"
     ]
    }
   ],
   "source": [
    "# 英制单位英寸与公制单位厘米互换\n",
    "value = float(input('请输入长度: '))\n",
    "unit = int(input('请输入单位(1:英寸, 2:厘米): '))\n",
    "if unit == 1:\n",
    "    print('%.2f英寸 = %.2f厘米' % (value, value * 2.54))\n",
    "elif unit == 2:\n",
    "    print(f'{value:.2f}厘米 = {value / 2.54:.2f}英寸')\n",
    "else:\n",
    "    print('请输入有效的单位')"
   ]
  },
  {
   "cell_type": "markdown",
   "metadata": {},
   "source": [
    "#### 练习2：百分制成绩转换为等级制成绩。\n",
    "\n",
    "> **要求**：如果输入的成绩在90分以上（含90分）输出A；80分-90分（不含90分）输出B；70分-80分（不含80分）输出C；60分-70分（不含70分）输出D；60分以下输出E。\n"
   ]
  },
  {
   "cell_type": "code",
   "execution_count": 7,
   "metadata": {},
   "outputs": [
    {
     "name": "stdout",
     "output_type": "stream",
     "text": [
      "成绩无效\n",
      "成绩无效\n",
      "输入有误: could not convert string to float: 'asfsa'\n",
      "对应的等级是: A\n"
     ]
    }
   ],
   "source": [
    "while 1:\n",
    "    try:\n",
    "        score = float(input('请输入成绩: '))\n",
    "        if score < 0 or score > 100:\n",
    "            print('成绩无效')\n",
    "        else:\n",
    "            break\n",
    "    except Exception as e:\n",
    "        print('输入有误:', e)\n",
    "\n",
    "\n",
    "if score >= 90:\n",
    "    grade = 'A'\n",
    "elif score >= 80:\n",
    "    grade = 'B'\n",
    "elif score >= 70:\n",
    "    grade = 'C'\n",
    "elif score >= 60:\n",
    "    grade = 'D'\n",
    "else:\n",
    "    grade = 'E'\n",
    "\n",
    "print('对应的等级是:', grade)"
   ]
  },
  {
   "cell_type": "markdown",
   "metadata": {},
   "source": [
    "#### 练习3：输入三条边长，如果能构成三角形就计算周长和面积。\n"
   ]
  },
  {
   "cell_type": "code",
   "execution_count": 2,
   "metadata": {},
   "outputs": [
    {
     "name": "stdout",
     "output_type": "stream",
     "text": [
      "请输入三角形的三条边的长度:(用1个空格分开)\n",
      "输入有误: could not convert string to float: 'asdhasuhd'\n",
      "请输入三角形的三条边的长度:(用1个空格分开)\n",
      "该三角形的周长为12.00, 面积为60.00\n"
     ]
    }
   ],
   "source": [
    "while 1:\n",
    "    try:\n",
    "        print(\"请输入三角形的三条边的长度:(用1个空格分开)\")\n",
    "        a, b, c = map(float, input().split())\n",
    "        if a < 0 or b < 0 or c < 0:\n",
    "            print('三角形的三条边的长度不能为负数')\n",
    "        else:\n",
    "            break\n",
    "    except Exception as e:\n",
    "        print('输入有误:', e)\n",
    "\n",
    "if a + b > c and a + c > b and b + c > a:\n",
    "    print(f'该三角形的周长为{a + b + c:.2f}, 面积为{a * b * c:.2f}')\n",
    "else:\n",
    "    print('不能构成三角形')\n"
   ]
  }
 ],
 "metadata": {
  "kernelspec": {
   "display_name": "Python 3.10.4 ('pl')",
   "language": "python",
   "name": "python3"
  },
  "language_info": {
   "codemirror_mode": {
    "name": "ipython",
    "version": 3
   },
   "file_extension": ".py",
   "mimetype": "text/x-python",
   "name": "python",
   "nbconvert_exporter": "python",
   "pygments_lexer": "ipython3",
   "version": "3.10.4"
  },
  "orig_nbformat": 4,
  "vscode": {
   "interpreter": {
    "hash": "526af95d1ed2fcd5e87194c854c535b0d53eed2d887f5bd0090e9d620abbee53"
   }
  }
 },
 "nbformat": 4,
 "nbformat_minor": 2
}
