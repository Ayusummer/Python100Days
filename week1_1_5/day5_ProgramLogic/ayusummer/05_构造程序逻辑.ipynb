{
 "cells": [
  {
   "cell_type": "markdown",
   "metadata": {},
   "source": [
    "# day5_构造程序逻辑_练习\n"
   ]
  },
  {
   "cell_type": "markdown",
   "metadata": {},
   "source": [
    "## 斐波那契数列\n",
    "\n",
    "1. 生成**斐波那契数列**的前20个数。\n",
    "\n",
    "   > **说明**：斐波那契数列（Fibonacci sequence），又称黄金分割数列，是意大利数学家莱昂纳多·斐波那契（Leonardoda Fibonacci）在《计算之书》中提出一个在理想假设条件下兔子成长率的问题而引入的数列，所以这个数列也被戏称为&quot;兔子数列&quot;。斐波那契数列的特点是数列的前两个数都是1，从第三个数开始，每个数都是它前面两个数的和，形如：1, 1, 2, 3, 5, 8, 13, 21, 34, 55, 89, 144, ...。斐波那契数列在现代物理、准晶体结构、化学等领域都有直接的应用。\n",
    "\n"
   ]
  },
  {
   "cell_type": "code",
   "execution_count": 1,
   "metadata": {},
   "outputs": [
    {
     "name": "stdout",
     "output_type": "stream",
     "text": [
      "[1, 1, 2, 3, 5, 8, 13, 21, 34, 55, 89, 144, 233, 377, 610, 987, 1597, 2584, 4181, 6765]\n"
     ]
    }
   ],
   "source": [
    "# 斐波那契数列练习\n",
    "\n",
    "def generate_fibonacci(n: int) -> list:\n",
    "    \"\"\"生成斐波那契数列前 n 个数  \n",
    "    :param n: 生成的斐波那契数列的个数\n",
    "    :return: 斐波那契数列前 n 个数组成的列表\n",
    "    \"\"\"\n",
    "    fib_list = [1, 1]\n",
    "    for i in range(2, n):\n",
    "        fib_list.append(fib_list[i - 1] + fib_list[i - 2])\n",
    "    return fib_list\n",
    "\n",
    "# 生成斐波那契数列前 20 个数\n",
    "fib_list = generate_fibonacci(20)\n",
    "print(fib_list)"
   ]
  },
  {
   "cell_type": "code",
   "execution_count": 2,
   "metadata": {},
   "outputs": [
    {
     "name": "stdout",
     "output_type": "stream",
     "text": [
      "1 1 2 3 5 8 13 21 34 55 89 144 233 377 610 987 1597 2584 4181 6765 "
     ]
    }
   ],
   "source": [
    "\"\"\"\n",
    "输出斐波那契数列的前20个数\n",
    "1 1 2 3 5 8 13 21 ...\n",
    "\n",
    "Version: 0.1\n",
    "Author: 骆昊\n",
    "Date: 2018-03-02\n",
    "\"\"\"\n",
    "\n",
    "a = 0\n",
    "b = 1\n",
    "for _ in range(20):\n",
    "    a, b = b, a + b\n",
    "    print(a, end=' ')\n"
   ]
  },
  {
   "cell_type": "markdown",
   "metadata": {},
   "source": [
    "## 完美数\n",
    "\n",
    "2. 找出10000以内的**完美数**。\n",
    "\n",
    "   > **说明**：完美数又称为完全数或完备数，它的所有的真因子（即除了自身以外的因子）的和（即因子函数）恰好等于它本身。例如：6（$6=1+2+3$）和28（$28=1+2+4+7+14$）就是完美数。完美数有很多神奇的特性，有兴趣的可以自行了解。\n",
    "\n"
   ]
  },
  {
   "cell_type": "code",
   "execution_count": 12,
   "metadata": {},
   "outputs": [
    {
     "name": "stdout",
     "output_type": "stream",
     "text": [
      "1\n",
      "6\n",
      "28\n",
      "496\n",
      "8128\n"
     ]
    }
   ],
   "source": [
    "from math import sqrt\n",
    "\n",
    "def is_perfact_number(n: int) -> bool:\n",
    "    \"\"\"判断一个数是否是完美数   \n",
    "    :param n: 要判断的数\n",
    "    :return: 如果是完美数返回 True, 否则返回 False\n",
    "    \"\"\"\n",
    "    sum = 0\n",
    "    # 因数只需要遍历到 sqrt(n) 就可以了, 因为因数是成对出现的\n",
    "    for i in range(1, int(sqrt(n) + 1)):\n",
    "        if n % i == 0:\n",
    "            sum += i\n",
    "            # 特殊情况下 sqrt(n) 刚好是整数, 这时候不能重复计算\n",
    "            if i > 1 and n // i != i:\n",
    "                # 加上想对应的另一个因数\n",
    "                sum += n // i\n",
    "    return sum == n\n",
    "\n",
    "# 找出 10000 以内的完美数\n",
    "for i in range(1, 10000):\n",
    "    if is_perfact_number(i):\n",
    "        print(i)"
   ]
  },
  {
   "cell_type": "code",
   "execution_count": 4,
   "metadata": {},
   "outputs": [
    {
     "name": "stdout",
     "output_type": "stream",
     "text": [
      "6\n",
      "28\n",
      "496\n",
      "8128\n"
     ]
    }
   ],
   "source": [
    "\"\"\"\n",
    "找出1~9999之间的所有完美数\n",
    "完美数是除自身外其他所有因子的和正好等于这个数本身的数\n",
    "例如: 6 = 1 + 2 + 3, 28 = 1 + 2 + 4 + 7 + 14\n",
    "\n",
    "Version: 0.1\n",
    "Author: 骆昊\n",
    "Date: 2018-03-02\n",
    "\"\"\"\n",
    "import math\n",
    "\n",
    "for num in range(2, 10000):\n",
    "    result = 0\n",
    "    for factor in range(1, int(math.sqrt(num)) + 1):\n",
    "        if num % factor == 0:\n",
    "            result += factor\n",
    "            if factor > 1 and num // factor != factor:\n",
    "                result += num // factor\n",
    "    if result == num:\n",
    "        print(num)\n"
   ]
  },
  {
   "cell_type": "markdown",
   "metadata": {},
   "source": [
    "## 素数\n",
    "\n",
    "3. 输出**100以内所有的素数**。\n",
    "\n",
    "   > **说明**：素数指的是只能被1和自身整除的正整数（不包括1）。\n"
   ]
  },
  {
   "cell_type": "code",
   "execution_count": 13,
   "metadata": {},
   "outputs": [
    {
     "name": "stdout",
     "output_type": "stream",
     "text": [
      "2\n",
      "3\n",
      "5\n",
      "7\n",
      "11\n",
      "13\n",
      "17\n",
      "19\n",
      "23\n",
      "29\n",
      "31\n",
      "37\n",
      "41\n",
      "43\n",
      "47\n",
      "53\n",
      "59\n",
      "61\n",
      "67\n",
      "71\n",
      "73\n",
      "79\n",
      "83\n",
      "89\n",
      "97\n"
     ]
    }
   ],
   "source": [
    "def is_prime(n: int) -> bool:\n",
    "    \"\"\"判断一个数是否是素数  \n",
    "    :param n: 待判断的数  \n",
    "    :return: n 是素数的话返回 True, 否则返回 False\n",
    "    \"\"\"\n",
    "    if n <= 1:\n",
    "        return False\n",
    "    for i in range(2, int(sqrt(n) + 1)):\n",
    "        if n % i == 0:\n",
    "            return False\n",
    "    return True\n",
    "\n",
    "# 找出 100 以内的素数\n",
    "for i in range(1, 100):\n",
    "    if is_prime(i):\n",
    "        print(i)\n"
   ]
  }
 ],
 "metadata": {
  "kernelspec": {
   "display_name": "Python 3.10.4 ('pl')",
   "language": "python",
   "name": "python3"
  },
  "language_info": {
   "codemirror_mode": {
    "name": "ipython",
    "version": 3
   },
   "file_extension": ".py",
   "mimetype": "text/x-python",
   "name": "python",
   "nbconvert_exporter": "python",
   "pygments_lexer": "ipython3",
   "version": "3.10.4"
  },
  "orig_nbformat": 4,
  "vscode": {
   "interpreter": {
    "hash": "526af95d1ed2fcd5e87194c854c535b0d53eed2d887f5bd0090e9d620abbee53"
   }
  }
 },
 "nbformat": 4,
 "nbformat_minor": 2
}
